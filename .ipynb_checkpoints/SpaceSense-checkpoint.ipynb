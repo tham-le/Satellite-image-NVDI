{
 "cells": [
  {
   "cell_type": "code",
   "execution_count": 2,
   "id": "2a288910-a2e7-43d2-8b1d-1f1a845b0ff4",
   "metadata": {},
   "outputs": [
    {
     "name": "stdout",
     "output_type": "stream",
     "text": [
      "Defaulting to user installation because normal site-packages is not writeable\n",
      "Requirement already satisfied: netcdf4 in /mnt/nfs/homes/thi-le/.local/lib/python3.10/site-packages (1.6.5)\n",
      "Requirement already satisfied: numpy in /mnt/nfs/homes/thi-le/.local/lib/python3.10/site-packages (from netcdf4) (1.26.4)\n",
      "Requirement already satisfied: certifi in /usr/lib/python3/dist-packages (from netcdf4) (2020.6.20)\n",
      "Requirement already satisfied: cftime in /mnt/nfs/homes/thi-le/.local/lib/python3.10/site-packages (from netcdf4) (1.6.3)\n",
      "Note: you may need to restart the kernel to use updated packages.\n"
     ]
    }
   ],
   "source": [
    "%pip install netcdf4\n",
    "import netCDF4 as nc4\n",
    "import numpy as np"
   ]
  },
  {
   "cell_type": "code",
   "execution_count": 6,
   "id": "2f36456d-9b25-477b-bf3c-b98f8ca01d9d",
   "metadata": {},
   "outputs": [
    {
     "name": "stdout",
     "output_type": "stream",
     "text": [
      "<class 'netCDF4._netCDF4.Dataset'>\n",
      "root group (NETCDF4 data model, file format HDF5):\n",
      "    transform: [ 8.98405270e-05  0.00000000e+00 -6.99499045e+01  0.00000000e+00\n",
      " -9.04387077e-05  4.52332071e+01]\n",
      "    crs: +init=epsg:4326\n",
      "    res: [8.98405270e-05 9.04387077e-05]\n",
      "    descriptions: ['RED', 'GREEN', 'BLUE', 'NIR']\n",
      "    AREA_OR_POINT: Area\n",
      "    _FillValue: nan\n",
      "    s2_data_lineage: {\"Data origin\": \"S3 bucket (ARN=arn:aws:s3:::sentinel-cogs-inventory)\"}\n",
      "    ulx, uly: [-69.94990454  45.23320715]\n",
      "    dimensions(sizes): time(23), y(227), x(304)\n",
      "    variables(dimensions): int64 time(time), float32 S2_RED(time, y, x), float32 S2_GREEN(time, y, x), float32 S2_BLUE(time, y, x), float32 S2_NIR(time, y, x), float32 y(y), float32 x(x)\n",
      "    groups: \n"
     ]
    }
   ],
   "source": [
    "f = nc4.Dataset('geospatial_test_datacube.nc', format='NETCDF4')\n",
    "print(f) "
   ]
  },
  {
   "cell_type": "code",
   "execution_count": 13,
   "id": "87cf54e4-9636-47fd-9bfc-6fc44ccd628b",
   "metadata": {},
   "outputs": [
    {
     "name": "stdout",
     "output_type": "stream",
     "text": [
      "dict_keys(['time', 'S2_RED', 'S2_GREEN', 'S2_BLUE', 'S2_NIR', 'y', 'x'])\n",
      "('time', <class 'netCDF4._netCDF4.Dimension'>: name = 'time', size = 23)\n",
      "('y', <class 'netCDF4._netCDF4.Dimension'>: name = 'y', size = 227)\n",
      "('x', <class 'netCDF4._netCDF4.Dimension'>: name = 'x', size = 304)\n"
     ]
    }
   ],
   "source": [
    "print(f.variables.keys()) # get all variable names\n",
    "for d in f.dimensions.items():\n",
    "    print(d)\n",
    "time"
   ]
  },
  {
   "cell_type": "code",
   "execution_count": null,
   "id": "8e69d5d0-0041-4c3f-95db-d272f195daff",
   "metadata": {},
   "outputs": [],
   "source": []
  }
 ],
 "metadata": {
  "kernelspec": {
   "display_name": "Python 3 (ipykernel)",
   "language": "python",
   "name": "python3"
  },
  "language_info": {
   "codemirror_mode": {
    "name": "ipython",
    "version": 3
   },
   "file_extension": ".py",
   "mimetype": "text/x-python",
   "name": "python",
   "nbconvert_exporter": "python",
   "pygments_lexer": "ipython3",
   "version": "3.10.13"
  }
 },
 "nbformat": 4,
 "nbformat_minor": 5
}
